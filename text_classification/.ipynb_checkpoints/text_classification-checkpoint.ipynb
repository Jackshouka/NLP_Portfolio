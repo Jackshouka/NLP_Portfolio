{
 "cells": [
  {
   "cell_type": "markdown",
   "metadata": {},
   "source": [
    "# Text Classification\n",
    "## Part I: Data Exploration\n",
    "\n",
    "### About the Dataset\n",
    "Hello! In this notebook, we'll look to classify emotions based off of text found in a corresponding tweet! This was taken from a dataset from Kaggle.com, and can be found [here:](https://www.kaggle.com/datasets/pashupatigupta/emotion-detection-from-text?resource=download)\n",
    "\n",
    "https://www.kaggle.com/datasets/pashupatigupta/emotion-detection-from-text?resource=download"
   ]
  },
  {
   "cell_type": "code",
   "execution_count": 2,
   "metadata": {},
   "outputs": [
    {
     "name": "stdout",
     "output_type": "stream",
     "text": [
      "     tweet_id   sentiment                                            content\n",
      "0  1956967341       empty  @tiffanylue i know  i was listenin to bad habi...\n",
      "1  1956967666     sadness  Layin n bed with a headache  ughhhh...waitin o...\n",
      "2  1956967696     sadness                Funeral ceremony...gloomy friday...\n",
      "3  1956967789  enthusiasm               wants to hang out with friends SOON!\n",
      "4  1956968416     neutral  @dannycastillo We want to trade with someone w...\n",
      "\n",
      " (40000, 3)\n",
      "\n",
      " neutral       8638\n",
      "worry         8459\n",
      "happiness     5209\n",
      "sadness       5165\n",
      "love          3842\n",
      "surprise      2187\n",
      "fun           1776\n",
      "relief        1526\n",
      "hate          1323\n",
      "empty          827\n",
      "enthusiasm     759\n",
      "boredom        179\n",
      "anger          110\n",
      "Name: sentiment, dtype: int64\n"
     ]
    }
   ],
   "source": [
    "import pandas as pd\n",
    "\n",
    "df = pd.read_csv('tweet_emotions.csv')\n",
    "print(df.head()) #take a look at how the csv is organized\n",
    "print(\"\\n\", df.shape)\n",
    "\n",
    "#attribute counts\n",
    "emo_counts = df['sentiment'].value_counts()\n",
    "print(\"\\n\", emo_counts)"
   ]
  },
  {
   "cell_type": "markdown",
   "metadata": {},
   "source": [
    "We've got a big dataset here! But before we do anything else, I'd like to tell you a little bit about the dataset we've got here.\n",
    "This will be a multi-class classification, as the dataset pulls tweets that have the following emotional implications:\n",
    "- Neutral\n",
    "- Worry\n",
    "- Happiness\n",
    "- Sadness\n",
    "- Love\n",
    "- Surprise\n",
    "- Fun\n",
    "- Relief\n",
    "- Hate\n",
    "- Empty\n",
    "- Enthusiasm\n",
    "- Boredom\n",
    "- Anger\n",
    "\n",
    "Due to the size of the dataset itself, and the similarity some of these emotions have to one another, I've opted to make some alterations to the dataset to make our classification a bit more manageable."
   ]
  },
  {
   "cell_type": "code",
   "execution_count": 3,
   "metadata": {},
   "outputs": [],
   "source": [
    "#remove a TON of rows based on attribute\n",
    "attributes_remove = ['neutral', 'surprise', 'fun', 'relief', 'hate', 'empty', 'enthusiasm', 'boredom', 'anger']\n",
    "df_filtered = df[~df['sentiment'].isin(attributes_remove)]\n",
    "df_filtered.to_csv('tweets_filtered.csv', index = False)"
   ]
  },
  {
   "cell_type": "markdown",
   "metadata": {},
   "source": [
    "What we've done to the dataset now is 'cleaned' it. Looking at the original dataset we have a lot of other emotional attributes that are pretty miniscule, so I fear that the models we make won't pick up on classifying those attributes due to a drastically smaller sample size. Addtionally, I've also removed the 'neutral' section because I feel like that doesn't really show much of anything, and would more than likely trip up our algorithms later on. Let's take a look at our cleaned dataset now:"
   ]
  },
  {
   "cell_type": "code",
   "execution_count": 4,
   "metadata": {},
   "outputs": [
    {
     "name": "stdout",
     "output_type": "stream",
     "text": [
      "     tweet_id sentiment                                            content\n",
      "1  1956967666   sadness  Layin n bed with a headache  ughhhh...waitin o...\n",
      "2  1956967696   sadness                Funeral ceremony...gloomy friday...\n",
      "5  1956968477     worry  Re-pinging @ghostridah14: why didn't you go to...\n",
      "6  1956968487   sadness  I should be sleep, but im not! thinking about ...\n",
      "7  1956968636     worry               Hmmm. http://www.djhero.com/ is down\n",
      "\n",
      " (22675, 3)\n",
      "\n",
      " worry        8459\n",
      "happiness    5209\n",
      "sadness      5165\n",
      "love         3842\n",
      "Name: sentiment, dtype: int64\n",
      "{'happiness': 0, 'love': 1, 'sadness': 2, 'worry': 3}\n"
     ]
    },
    {
     "name": "stderr",
     "output_type": "stream",
     "text": [
      "/tmp/ipykernel_130136/1655245909.py:11: SettingWithCopyWarning: \n",
      "A value is trying to be set on a copy of a slice from a DataFrame.\n",
      "Try using .loc[row_indexer,col_indexer] = value instead\n",
      "\n",
      "See the caveats in the documentation: https://pandas.pydata.org/pandas-docs/stable/user_guide/indexing.html#returning-a-view-versus-a-copy\n",
      "  df_filtered['sentiment'] = le.fit_transform(df_filtered['sentiment'])\n"
     ]
    }
   ],
   "source": [
    "print(df_filtered.head()) #take a look at how the csv is organized\n",
    "print(\"\\n\", df_filtered.shape)\n",
    "\n",
    "#attribute counts\n",
    "emo_counts_filtered = df_filtered['sentiment'].value_counts()\n",
    "print(\"\\n\", emo_counts_filtered)\n",
    "\n",
    "#encode target classes\n",
    "from sklearn.preprocessing import LabelEncoder\n",
    "le = LabelEncoder()\n",
    "df_filtered['sentiment'] = le.fit_transform(df_filtered['sentiment'])\n",
    "emotion_labels = dict(zip(le.classes_, le.transform(le.classes_)))\n",
    "print(emotion_labels)"
   ]
  },
  {
   "cell_type": "markdown",
   "metadata": {},
   "source": [
    "Much more manageable. \n",
    "Now we'll do some text preprocessing, then we'll create a test/train split and create some introductory graphs before moving on to training and testing our machine learning models.\n",
    "(Also - Keep in mind the emotional mappings: Happy = 0, Love = 1, Sad = 2 and Worry = 3)"
   ]
  },
  {
   "cell_type": "code",
   "execution_count": 5,
   "metadata": {},
   "outputs": [
    {
     "name": "stderr",
     "output_type": "stream",
     "text": [
      "/tmp/ipykernel_130136/2200464861.py:11: SettingWithCopyWarning: \n",
      "A value is trying to be set on a copy of a slice from a DataFrame.\n",
      "Try using .loc[row_indexer,col_indexer] = value instead\n",
      "\n",
      "See the caveats in the documentation: https://pandas.pydata.org/pandas-docs/stable/user_guide/indexing.html#returning-a-view-versus-a-copy\n",
      "  df_filtered['content'] = df_filtered['content'].apply(preprocess)\n"
     ]
    }
   ],
   "source": [
    "#preprocess\n",
    "import nltk\n",
    "from nltk.corpus import stopwords\n",
    "from nltk.tokenize import word_tokenize\n",
    "def preprocess(text):\n",
    "    stop_words = set(stopwords.words('english'))\n",
    "    words = word_tokenize(text)\n",
    "    processed = [word for word in words if word not in stop_words or word.isupper()]\n",
    "    return ' '.join(processed)\n",
    "\n",
    "df_filtered['content'] = df_filtered['content'].apply(preprocess)\n",
    "df_filtered.to_csv('tweets_preprocessed.csv', index = False)\n",
    "\n",
    "#I forgot to do this earlier - need to get rid of NaN values\n",
    "df_processed = pd.read_csv('tweets_preprocessed.csv')\n",
    "df_processed = df_processed.dropna(subset=['content'])"
   ]
  },
  {
   "cell_type": "markdown",
   "metadata": {},
   "source": [
    "What happens in the codeblock above is that I removed all the stopwords from the tweet content, while preserving anything that is in all caps, as I beleive some kind of emotion can be gleamed from typing things out LIKE THIS. I dunno. It looks loud to me, and that might elicit.. something?\n",
    "\n",
    "Onto the target class graphs."
   ]
  },
  {
   "cell_type": "code",
   "execution_count": 6,
   "metadata": {},
   "outputs": [
    {
     "data": {
      "image/png": "[encoded data removed]",
      "text/plain": [
       "<Figure size 1000x600 with 1 Axes>"
      ]
     },
     "metadata": {},
     "output_type": "display_data"
    }
   ],
   "source": [
    "import seaborn as sb\n",
    "import matplotlib.pyplot as plt\n",
    "\n",
    "sb.set(style = \"darkgrid\")\n",
    "plt.figure(figsize=(10, 6))\n",
    "ax =sb.countplot(x='sentiment', data = df_processed)\n",
    "ax.set_xticklabels(emotion_labels.values())\n",
    "ax.set_title('Frequency Distribution of Emotion Classes')\n",
    "ax.set_xlabel('Emotion')\n",
    "ax.set_ylabel('Frequency')\n",
    "\n",
    "plt.show()"
   ]
  },
  {
   "cell_type": "markdown",
   "metadata": {},
   "source": [
    "And now, we'll generate that train/test split and conclude our big data processing/exploration/explanation section.\n",
    "\n",
    "Just to be clear - the goal of these models is to accurately predict what emotion a tweet's text content is based on the four targets we've been toying with up until now, those being 0 - happiness, 1 - love, 2 - sadness and 3 - worry."
   ]
  },
  {
   "cell_type": "code",
   "execution_count": 7,
   "metadata": {},
   "outputs": [
    {
     "name": "stdout",
     "output_type": "stream",
     "text": [
      "0      Layin n bed headache ughhhh ... waitin call ...\n",
      "1               Funeral ceremony ... gloomy friday ...\n",
      "2    Re-pinging @ ghostridah14 : n't go prom ? BC b...\n",
      "3    I sleep , im ! thinking old friend I want . 's...\n",
      "4                      Hmmm . http : //www.djhero.com/\n",
      "Name: content, dtype: object\n"
     ]
    },
    {
     "name": "stderr",
     "output_type": "stream",
     "text": [
      "/tmp/ipykernel_130136/565712513.py:10: FutureWarning: The behavior of `series[i:j]` with an integer-dtype index is deprecated. In a future version, this will be treated as *label-based* indexing, consistent with e.g. `series[i]` lookups. To retain the old behavior, use `series.iloc[i:j]`. To get the future behavior, use `series.loc[i:j]`.\n",
      "  y[:10]\n"
     ]
    },
    {
     "data": {
      "text/plain": [
       "0    2\n",
       "1    2\n",
       "2    3\n",
       "3    2\n",
       "4    3\n",
       "5    2\n",
       "6    2\n",
       "7    3\n",
       "8    2\n",
       "9    2\n",
       "Name: sentiment, dtype: int64"
      ]
     },
     "execution_count": 7,
     "metadata": {},
     "output_type": "execute_result"
    }
   ],
   "source": [
    "from sklearn.model_selection import train_test_split\n",
    "\n",
    "#y = target = sentiment, or what we want to predict.\n",
    "x = df_processed.content\n",
    "y = df_processed.sentiment\n",
    "x_train, x_test, y_train, y_test = train_test_split(x, y, test_size= 0.2, random_state= 1234)\n",
    "\n",
    "#peeking at our x and y\n",
    "print(x.head())\n",
    "y[:10]"
   ]
  },
  {
   "cell_type": "markdown",
   "metadata": {},
   "source": [
    "# Part II - Machine Learning\n",
    "## Section I - Naive Bayes Model\n"
   ]
  },
  {
   "cell_type": "code",
   "execution_count": 8,
   "metadata": {},
   "outputs": [
    {
     "name": "stdout",
     "output_type": "stream",
     "text": [
      "Accuracy: 0.4604189636163175\n",
      "\n",
      "Classification Report:\n",
      "               precision    recall  f1-score   support\n",
      "\n",
      "           0       0.57      0.27      0.37      1034\n",
      "           1       0.70      0.18      0.29       728\n",
      "           2       0.45      0.04      0.07      1029\n",
      "           3       0.43      0.94      0.59      1744\n",
      "\n",
      "    accuracy                           0.46      4535\n",
      "   macro avg       0.54      0.36      0.33      4535\n",
      "weighted avg       0.51      0.46      0.37      4535\n",
      "\n",
      "\n",
      "Confusion Matrix\n",
      " [[ 279   39    6  710]\n",
      " [ 132  131    9  456]\n",
      " [  19    3   40  967]\n",
      " [  58   14   34 1638]]\n"
     ]
    }
   ],
   "source": [
    "from sklearn.naive_bayes import MultinomialNB\n",
    "from sklearn.feature_extraction.text import TfidfVectorizer\n",
    "from sklearn.metrics import classification_report, confusion_matrix, accuracy_score\n",
    "\n",
    "vectorizor = TfidfVectorizer()\n",
    "x_train = vectorizor.fit_transform(x_train)\n",
    "x_test = vectorizor.transform(x_test)\n",
    "\n",
    "#create the multinomial NB model\n",
    "nb_model = MultinomialNB()\n",
    "nb_model.fit(x_train, y_train)\n",
    "\n",
    "#make predictions on test set\n",
    "y_prediction = nb_model.predict(x_test)\n",
    "\n",
    "#stats\n",
    "print(\"Accuracy:\", accuracy_score(y_test, y_prediction))\n",
    "print(\"\\nClassification Report:\\n\", classification_report(y_test, y_prediction))\n",
    "print(\"\\nConfusion Matrix\\n\", confusion_matrix(y_test, y_prediction))"
   ]
  },
  {
   "cell_type": "markdown",
   "metadata": {},
   "source": [
    "## Section II - Logistic Regression"
   ]
  },
  {
   "cell_type": "code",
   "execution_count": 9,
   "metadata": {},
   "outputs": [
    {
     "name": "stdout",
     "output_type": "stream",
     "text": [
      "Accuracy: 0.5140022050716648\n",
      "\n",
      "Classification Report:\n",
      "               precision    recall  f1-score   support\n",
      "\n",
      "           0       0.52      0.53      0.53      1034\n",
      "           1       0.57      0.40      0.47       728\n",
      "           2       0.45      0.31      0.36      1029\n",
      "           3       0.52      0.68      0.59      1744\n",
      "\n",
      "    accuracy                           0.51      4535\n",
      "   macro avg       0.51      0.48      0.49      4535\n",
      "weighted avg       0.51      0.51      0.50      4535\n",
      "\n",
      "\n",
      "Confusion Matrix\n",
      " [[ 546  126   56  306]\n",
      " [ 209  291   42  186]\n",
      " [  84   34  316  595]\n",
      " [ 207   63  296 1178]]\n"
     ]
    },
    {
     "name": "stderr",
     "output_type": "stream",
     "text": [
      "/home/jacko/.local/lib/python3.10/site-packages/sklearn/linear_model/_logistic.py:444: ConvergenceWarning: lbfgs failed to converge (status=1):\n",
      "STOP: TOTAL NO. of ITERATIONS REACHED LIMIT.\n",
      "\n",
      "Increase the number of iterations (max_iter) or scale the data as shown in:\n",
      "    https://scikit-learn.org/stable/modules/preprocessing.html\n",
      "Please also refer to the documentation for alternative solver options:\n",
      "    https://scikit-learn.org/stable/modules/linear_model.html#logistic-regression\n",
      "  n_iter_i = _check_optimize_result(\n"
     ]
    }
   ],
   "source": [
    "from sklearn.linear_model._logistic import LogisticRegression\n",
    "\n",
    "logreg = LogisticRegression(multi_class='multinomial', solver='lbfgs')\n",
    "logreg.fit(x_train, y_train)\n",
    "\n",
    "y_prediction_lgrg = logreg.predict(x_test)\n",
    "\n",
    "#stats\n",
    "print(\"Accuracy:\", accuracy_score(y_test, y_prediction_lgrg))\n",
    "print(\"\\nClassification Report:\\n\", classification_report(y_test, y_prediction_lgrg))\n",
    "print(\"\\nConfusion Matrix\\n\", confusion_matrix(y_test, y_prediction_lgrg))"
   ]
  },
  {
   "cell_type": "markdown",
   "metadata": {},
   "source": [
    "(Just as a note - we have a bit of a warning for max_iterations, so I'm gonna play around w/ it and see if anything happens.)  "
   ]
  },
  {
   "cell_type": "code",
   "execution_count": 10,
   "metadata": {},
   "outputs": [
    {
     "name": "stdout",
     "output_type": "stream",
     "text": [
      "Accuracy: 0.5140022050716648\n",
      "\n",
      "Classification Report:\n",
      "               precision    recall  f1-score   support\n",
      "\n",
      "           0       0.52      0.53      0.52      1034\n",
      "           1       0.57      0.40      0.47       728\n",
      "           2       0.45      0.31      0.36      1029\n",
      "           3       0.52      0.68      0.59      1744\n",
      "\n",
      "    accuracy                           0.51      4535\n",
      "   macro avg       0.51      0.48      0.49      4535\n",
      "weighted avg       0.51      0.51      0.50      4535\n",
      "\n",
      "\n",
      "Confusion Matrix\n",
      " [[ 544  127   57  306]\n",
      " [ 207  290   42  189]\n",
      " [  83   33  317  596]\n",
      " [ 206   63  295 1180]]\n"
     ]
    }
   ],
   "source": [
    "logreg_MAX = LogisticRegression(multi_class='multinomial', solver='lbfgs', max_iter=1000)\n",
    "logreg_MAX.fit(x_train, y_train)\n",
    "\n",
    "y_prediction_lgrg_MAX = logreg_MAX.predict(x_test)\n",
    "\n",
    "#stats\n",
    "print(\"Accuracy:\", accuracy_score(y_test, y_prediction_lgrg_MAX))\n",
    "print(\"\\nClassification Report:\\n\", classification_report(y_test, y_prediction_lgrg_MAX))\n",
    "print(\"\\nConfusion Matrix\\n\", confusion_matrix(y_test, y_prediction_lgrg_MAX))"
   ]
  },
  {
   "cell_type": "markdown",
   "metadata": {},
   "source": [
    "(Hooray for marginal improvements!)"
   ]
  },
  {
   "cell_type": "markdown",
   "metadata": {},
   "source": [
    "## Section III - Neural Networks"
   ]
  },
  {
   "cell_type": "code",
   "execution_count": 11,
   "metadata": {},
   "outputs": [
    {
     "name": "stdout",
     "output_type": "stream",
     "text": [
      "Accuracy: 0.43263506063947077\n",
      "\n",
      "Classification Report:\n",
      "               precision    recall  f1-score   support\n",
      "\n",
      "           0       0.59      0.05      0.08      1034\n",
      "           1       0.56      0.37      0.45       728\n",
      "           2       0.15      0.09      0.11      1029\n",
      "           3       0.46      0.89      0.61      1744\n",
      "\n",
      "    accuracy                           0.43      4535\n",
      "   macro avg       0.44      0.35      0.31      4535\n",
      "weighted avg       0.43      0.43      0.35      4535\n",
      "\n",
      "\n",
      "Confusion Matrix\n",
      " [[  47  143  223  621]\n",
      " [  10  272  136  310]\n",
      " [  11   32   90  896]\n",
      " [  12   43  136 1553]]\n"
     ]
    },
    {
     "name": "stderr",
     "output_type": "stream",
     "text": [
      "/home/jacko/.local/lib/python3.10/site-packages/sklearn/neural_network/_multilayer_perceptron.py:702: ConvergenceWarning: Stochastic Optimizer: Maximum iterations (1) reached and the optimization hasn't converged yet.\n",
      "  warnings.warn(\n"
     ]
    }
   ],
   "source": [
    "from sklearn.neural_network import MLPClassifier\n",
    "\n",
    "#max_iter has to be low due to dataset. can't iterate 20,000+ datapoints 200 times. (though i'd like to)\n",
    "nn = MLPClassifier(hidden_layer_sizes=(1000,4), solver=\"adam\", max_iter= 1, random_state=1234)\n",
    "nn.fit(x_train, y_train)\n",
    "\n",
    "nn_pred = nn.predict(x_test)\n",
    "#stats\n",
    "print(\"Accuracy:\", accuracy_score(y_test, nn_pred))\n",
    "print(\"\\nClassification Report:\\n\", classification_report(y_test, nn_pred))\n",
    "print(\"\\nConfusion Matrix\\n\", confusion_matrix(y_test, nn_pred))"
   ]
  },
  {
   "cell_type": "markdown",
   "metadata": {},
   "source": [
    "# Part III - An Analysis\n",
    "Our best performing model was the logistic regression that was tuned ever-so slightly to get it's max iterations up, putting up an accuracy of around 51.4%. (It was a marginal increase, about a 0.1% improvement from the standard logistic regression model we used.) Naive Bayes performed poorly with an accuracy of 46%.\n",
    "\n",
    "What I found interesting was the neural network model, as it kept crashing my python kernel as I was meddling around with the model. (Whoops.) Usually, the more I tinkered, the worse the accuracy was. The best accuracy was around 50% and I genuinely cannot remember the configuration I tried. (I tried many.) However, I tried adhering to the following principles:\n",
    "\n",
    "- Hidden layer size should be set like this (some range within the number of features, number of targets)\n",
    "- lbfgs had a lot of convergence issues, so I switched to adam (the default, but slower solver that takes care of larger datasets easier) and had a low max_iter value. (Can't compute ALL this data more than once honestly. Though I'd like to try that later.)\n",
    "- The max iterations changed a lot because it ~~bricked my laptop so many times~~ took a while to compute all the data normally, doing it OVER AND OVER AND OVER would be uhhh inadvisable for my old, clunky hardware.\n",
    "\n",
    "So after two or so minutes of computation, my neural network had an incredible accuracy of 43%, offering none of the accuracy and taking all of the time. I really do like playing around with the MLPClassifer object parameters, just as a hopeless trial and error to see what works and what doesn't."
   ]
  }
 ],
 "metadata": {
  "kernelspec": {
   "display_name": "Python 3 (ipykernel)",
   "language": "python",
   "name": "python3"
  },
  "language_info": {
   "codemirror_mode": {
    "name": "ipython",
    "version": 3
   },
   "file_extension": ".py",
   "mimetype": "text/x-python",
   "name": "python",
   "nbconvert_exporter": "python",
   "pygments_lexer": "ipython3",
   "version": "3.10.6"
  }
 },
 "nbformat": 4,
 "nbformat_minor": 2
}
